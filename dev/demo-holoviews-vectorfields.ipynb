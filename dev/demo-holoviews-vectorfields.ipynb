{
 "cells": [
  {
   "cell_type": "markdown",
   "metadata": {},
   "source": [
    "# Demo using holoviews for vector fields"
   ]
  },
  {
   "cell_type": "code",
   "execution_count": null,
   "metadata": {
    "collapsed": false
   },
   "outputs": [],
   "source": [
    "import holoviews as hv\n",
    "hv.notebook_extension()"
   ]
  },
  {
   "cell_type": "code",
   "execution_count": null,
   "metadata": {
    "collapsed": true
   },
   "outputs": [],
   "source": [
    "import numpy as np"
   ]
  },
  {
   "cell_type": "code",
   "execution_count": null,
   "metadata": {
    "collapsed": true
   },
   "outputs": [],
   "source": [
    "def create_vectorfield(freq=1, phase=0):\n",
    "\n",
    "    x,y  = np.mgrid[-10:10,-10:10] * 0.25\n",
    "    sine_rings  = np.sin(freq * (x**2+y**2 + phase))*np.pi+np.pi\n",
    "    exp_falloff = 1/np.exp((x**2+y**2)/8)\n",
    "\n",
    "    vector_data = np.array([x.flatten()/5.,           # X positions\n",
    "                            y.flatten()/5.,           # Y positions\n",
    "                            sine_rings.flatten(),     # Arrow angles\n",
    "                            exp_falloff.flatten()])   # Arrow sizes\n",
    "    scalar_data = sine_rings \n",
    "    return vector_data, scalar_data\n",
    "\n"
   ]
  },
  {
   "cell_type": "code",
   "execution_count": null,
   "metadata": {
    "collapsed": false
   },
   "outputs": [],
   "source": [
    "matrices = {(phase, freq): hv.VectorField(create_vectorfield(freq, phase)[0].T, \n",
    "                                   label='my_label', group='my_group')\n",
    "          for freq in [0.05, 0.1, 0.25, 0.5, 1.0,  1.5,  2.0]    # Frequencies\n",
    "          for phase in [0, np.pi/2, np.pi, 3*np.pi/2, 2*np.pi]}  # Phases"
   ]
  },
  {
   "cell_type": "markdown",
   "metadata": {},
   "source": [
    "## show vector field"
   ]
  },
  {
   "cell_type": "code",
   "execution_count": null,
   "metadata": {
    "collapsed": false
   },
   "outputs": [],
   "source": [
    "%%opts VectorField (color='blue')\n",
    "\n",
    "vector_data, scalar_data = create_vectorfield(freq=0.1)\n",
    "hv.VectorField(vector_data.T, label='label', group='group')\n",
    "\n"
   ]
  },
  {
   "cell_type": "markdown",
   "metadata": {},
   "source": [
    "# show scalar field"
   ]
  },
  {
   "cell_type": "code",
   "execution_count": null,
   "metadata": {
    "collapsed": false
   },
   "outputs": [],
   "source": [
    "# polar angle\n",
    "\n",
    "hv.Image(scalar_data)"
   ]
  },
  {
   "cell_type": "markdown",
   "metadata": {},
   "source": [
    "# explore vector field as function of two parameters (freq and phase):"
   ]
  },
  {
   "cell_type": "code",
   "execution_count": null,
   "metadata": {
    "collapsed": false
   },
   "outputs": [],
   "source": [
    "hv.HoloMap(matrices, kdims=['phase', 'frequency'])"
   ]
  },
  {
   "cell_type": "code",
   "execution_count": null,
   "metadata": {
    "collapsed": false
   },
   "outputs": [],
   "source": [
    "matrices2 = {(phase, freq): hv.Image(create_vectorfield(freq, phase)[1]) * \n",
    "                                     hv.VectorField(create_vectorfield(freq, phase)[0].T,\n",
    "                                     label='my_label', group='my_group')                                       \n",
    "          for freq in [0.1, 0.25, 0.5, 1.0,  1.25, 1.5]    # Frequencies\n",
    "          for phase in [0, np.pi/2, np.pi, 3*np.pi/2, 2*np.pi]}  # Phases"
   ]
  },
  {
   "cell_type": "code",
   "execution_count": null,
   "metadata": {
    "collapsed": false
   },
   "outputs": [],
   "source": [
    "%%opts VectorField (color='r') Image (cmap='gray')\n",
    "\n",
    "\n",
    "hv.HoloMap(matrices2, kdims=['phase', 'frequency'])"
   ]
  },
  {
   "cell_type": "markdown",
   "metadata": {},
   "source": [
    "Thanks to Max Albert for pointing me towards Holoviews."
   ]
  }
 ],
 "metadata": {
  "kernelspec": {
   "display_name": "Python 3",
   "language": "python",
   "name": "python3"
  },
  "language_info": {
   "codemirror_mode": {
    "name": "ipython",
    "version": 3
   },
   "file_extension": ".py",
   "mimetype": "text/x-python",
   "name": "python",
   "nbconvert_exporter": "python",
   "pygments_lexer": "ipython3",
   "version": "3.5.1"
  }
 },
 "nbformat": 4,
 "nbformat_minor": 0
}

{
 "cells": [
  {
   "cell_type": "code",
   "execution_count": 1,
   "metadata": {
    "collapsed": false
   },
   "outputs": [
    {
     "name": "stdout",
     "output_type": "stream",
     "text": [
      "DEBUG: This simulation name already exists.\n",
      "About to execute: '/Users/ryan/oommf/oommf/oommf.tcl boxsi dynamics_example9.mif'\n",
      "Running simulation... This may take a while\n",
      "Simulation complete\n",
      "JOOMMF DEBUG MODE\n",
      "Oommf Stderr:\n",
      "\n",
      "\n",
      "\n",
      "\n",
      "Oommf Stdout:\n",
      "Start: \"/Users/ryan/oommf-python/joommf/dynamics_example9.mif\"\n",
      "Options: -threads 2\n",
      "Boxsi version 1.2.0.6\n",
      "Running on: ryans-macbook-air.local\n",
      "OS/machine: Darwin/x86_64\n",
      "User: ryan\tPID: 32693\n",
      "Number of threads: 2\n",
      "Mesh geometry: 10 x 10 x 10 = 1 000 cells\n",
      "Boxsi run end.\n",
      "\n",
      "Loading simulation scalar output from dynamics_example9.odt\n"
     ]
    }
   ],
   "source": [
    "from joommf.sim import Sim\n",
    "from joommf.mesh import Mesh\n",
    "from joommf.energies.exchange import Exchange\n",
    "from joommf.energies.demag import Demag\n",
    "from joommf.energies.zeeman import FixedZeeman\n",
    "from joommf.drivers import evolver\n",
    "\n",
    "import matplotlib.pyplot as plt\n",
    "%matplotlib inline\n",
    "\n",
    "# Mesh specification.\n",
    "lx = ly = lz = 50e-9  # x, y, and z dimensions (m)\n",
    "dx = dy = dz = 5e-9  # x, y, and z cell dimensions (m)\n",
    "\n",
    "Ms = 8e5  # saturation magnetisation (A/m)\n",
    "A = 1e-11  # exchange energy constant (J/m)\n",
    "H = (1e3, 0, 0)  # external magnetic field (A/m)\n",
    "m_init = (0, 0, 1)  # initial magnetisation\n",
    "t_sim = 1e-9  # simulation time (s)\n",
    "gamma = 2.21e5\n",
    "alpha = 0.1\n",
    "# Create a mesh.\n",
    "mesh = Mesh((lx, ly, lz), (dx, dy, dz))\n",
    "\n",
    "# Create a simulation object.\n",
    "sim = Sim(mesh, Ms, name='dynamics_example', debug=True)\n",
    "\n",
    "# Add energies.\n",
    "sim.add_energy(Exchange(A))\n",
    "sim.add_energy(Demag())\n",
    "sim.add_energy(FixedZeeman(H))\n",
    "sim.set_evolver(\n",
    "    evolver.LLG(t_sim, m_init, Ms, alpha, gamma, name='evolver'))\n",
    "# Set initial magnetisation.\n",
    "sim.set_m(m_init)\n",
    "\n",
    "# Run simulation.\n",
    "sim.run()"
   ]
  }
 ],
 "metadata": {
  "kernelspec": {
   "display_name": "Python 2",
   "language": "python",
   "name": "python2"
  },
  "language_info": {
   "codemirror_mode": {
    "name": "ipython",
    "version": 2
   },
   "file_extension": ".py",
   "mimetype": "text/x-python",
   "name": "python",
   "nbconvert_exporter": "python",
   "pygments_lexer": "ipython2",
   "version": "2.7.11"
  }
 },
 "nbformat": 4,
 "nbformat_minor": 0
}

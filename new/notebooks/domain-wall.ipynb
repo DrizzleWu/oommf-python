{
 "cells": [
  {
   "cell_type": "code",
   "execution_count": 1,
   "metadata": {
    "collapsed": false
   },
   "outputs": [
    {
     "name": "stdout",
     "output_type": "stream",
     "text": [
      "rm -f *.mif\r\n",
      "rm -f *.omf\r\n"
     ]
    }
   ],
   "source": [
    "!make clean\n",
    "\n",
    "import sys\n",
    "\n",
    "sys.path.append('../')\n",
    "\n",
    "from sim import Sim\n",
    "from atlases import BoxAtlas\n",
    "from meshes import RectangularMesh\n",
    "from energies.exchange import UniformExchange\n",
    "from energies.demag import Demag\n",
    "from energies.zeeman import FixedZeeman\n",
    "from energies.anisotropy import UniaxialAnisotropy"
   ]
  },
  {
   "cell_type": "code",
   "execution_count": 2,
   "metadata": {
    "collapsed": true
   },
   "outputs": [],
   "source": [
    "cmin = (0, 0, 0)\n",
    "cmax = (50e-9, 1e-9, 1e-9)\n",
    "d = (1e-9, 1e-9, 1e-9)\n",
    "\n",
    "atlas = BoxAtlas(cmin, cmax)\n",
    "mesh = RectangularMesh(atlas, d)"
   ]
  },
  {
   "cell_type": "code",
   "execution_count": 3,
   "metadata": {
    "collapsed": true
   },
   "outputs": [],
   "source": [
    "sim = Sim(mesh, 1e6, name='domain_wall')"
   ]
  },
  {
   "cell_type": "code",
   "execution_count": 4,
   "metadata": {
    "collapsed": true
   },
   "outputs": [],
   "source": [
    "sim.add(UniformExchange(1e-11))\n",
    "sim.add(UniaxialAnisotropy(5e3, (0, 0, 1)))\n",
    "sim.add(Demag())"
   ]
  },
  {
   "cell_type": "code",
   "execution_count": 5,
   "metadata": {
    "collapsed": true
   },
   "outputs": [],
   "source": [
    "def m_init(pos):\n",
    "    if pos[0] > 30e-9:\n",
    "        return (0, 0, 1)\n",
    "    elif pos[0] < 20e-9:\n",
    "        return (0, 0, -1)\n",
    "    else:\n",
    "        return (0, 1, 0)\n",
    "    \n",
    "sim.set_m(m_init)"
   ]
  },
  {
   "cell_type": "code",
   "execution_count": 6,
   "metadata": {
    "collapsed": false
   },
   "outputs": [],
   "source": [
    "sim.run_until(1e-9)"
   ]
  },
  {
   "cell_type": "code",
   "execution_count": 7,
   "metadata": {
    "collapsed": false
   },
   "outputs": [
    {
     "name": "stdout",
     "output_type": "stream",
     "text": [
      "domain-wall.ipynb\t\t\t\tm0file.omf\r\n",
      "domain_wall.mif\t\t\t\t\tMakefile\r\n",
      "domain_wall.odt\t\t\t\t\tstandard_problem4.ipynb\r\n",
      "domain_wall-Oxs_TimeDriver-Spin-00-0003757.omf\tstdprob4relax.ipynb\r\n",
      "fmr_standard_problem.ipynb\r\n"
     ]
    }
   ],
   "source": [
    "!ls"
   ]
  },
  {
   "cell_type": "code",
   "execution_count": 8,
   "metadata": {
    "collapsed": false
   },
   "outputs": [],
   "source": [
    "from field import Field, load_oommf_file\n",
    "\n",
    "m0 = load_oommf_file('domain_wall-Oxs_TimeDriver-Spin-00-0003757.omf')"
   ]
  },
  {
   "cell_type": "code",
   "execution_count": 9,
   "metadata": {
    "collapsed": false
   },
   "outputs": [
    {
     "data": {
      "image/png": "[encoded data removed]",
      "text/plain": [
       "<matplotlib.figure.Figure at 0x7fd4b72fe810>"
      ]
     },
     "metadata": {},
     "output_type": "display_data"
    }
   ],
   "source": [
    "%matplotlib inline\n",
    "m0.plot_slice('z', 1e-9)"
   ]
  },
  {
   "cell_type": "code",
   "execution_count": null,
   "metadata": {
    "collapsed": true
   },
   "outputs": [],
   "source": []
  }
 ],
 "metadata": {
  "kernelspec": {
   "display_name": "Python 2",
   "language": "python",
   "name": "python2"
  },
  "language_info": {
   "codemirror_mode": {
    "name": "ipython",
    "version": 2
   },
   "file_extension": ".py",
   "mimetype": "text/x-python",
   "name": "python",
   "nbconvert_exporter": "python",
   "pygments_lexer": "ipython2",
   "version": "2.7.6"
  }
 },
 "nbformat": 4,
 "nbformat_minor": 0
}
